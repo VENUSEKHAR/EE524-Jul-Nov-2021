{
 "cells": [
  {
   "cell_type": "code",
   "execution_count": null,
   "id": "56fb18e9",
   "metadata": {},
   "outputs": [],
   "source": [
    "a=int(input(\"enter 1st number :\"))\n",
    "b = int(input(\"enter 2nd number :\"))\n",
    "def lcm(a,b):\n",
    "    if(a>b):\n",
    "        maximum = a\n",
    "    else:\n",
    "        maximum = b\n",
    "    while(True):\n",
    "        if(maximum%a==0 and maximum%b==0):\n",
    "           return maximum\n",
    "        else:\n",
    "            maximum += 1\n",
    "    return maximum\n",
    "print(\"LCM of two noumbers is :\", lcm(a,b)) "
   ]
  },
  {
   "cell_type": "code",
   "execution_count": null,
   "id": "943a73c1",
   "metadata": {},
   "outputs": [],
   "source": []
  }
 ],
 "metadata": {
  "kernelspec": {
   "display_name": "Python 3",
   "language": "python",
   "name": "python3"
  },
  "language_info": {
   "codemirror_mode": {
    "name": "ipython",
    "version": 3
   },
   "file_extension": ".py",
   "mimetype": "text/x-python",
   "name": "python",
   "nbconvert_exporter": "python",
   "pygments_lexer": "ipython3",
   "version": "3.8.8"
  }
 },
 "nbformat": 4,
 "nbformat_minor": 5
}
