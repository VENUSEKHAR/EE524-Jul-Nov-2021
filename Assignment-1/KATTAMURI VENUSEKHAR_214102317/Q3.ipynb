{
 "cells": [
  {
   "cell_type": "code",
   "execution_count": 1,
   "id": "46f95446",
   "metadata": {},
   "outputs": [
    {
     "name": "stdout",
     "output_type": "stream",
     "text": [
      "number is7\n",
      "5040\n"
     ]
    }
   ],
   "source": [
    "num =int(input('number is'))\n",
    "def fact(a): #defining the factorial function\n",
    "    prod = 1\n",
    "    while(a!=1):\n",
    "        prod = prod*a #recurring upto a=1\n",
    "        a = a-1 #a is reduced by one after every cycle\n",
    "    return prod\n",
    "print(fact(num))"
   ]
  },
  {
   "cell_type": "code",
   "execution_count": null,
   "id": "f7194ee6",
   "metadata": {},
   "outputs": [],
   "source": []
  }
 ],
 "metadata": {
  "kernelspec": {
   "display_name": "Python 3",
   "language": "python",
   "name": "python3"
  },
  "language_info": {
   "codemirror_mode": {
    "name": "ipython",
    "version": 3
   },
   "file_extension": ".py",
   "mimetype": "text/x-python",
   "name": "python",
   "nbconvert_exporter": "python",
   "pygments_lexer": "ipython3",
   "version": "3.8.8"
  }
 },
 "nbformat": 4,
 "nbformat_minor": 5
}
