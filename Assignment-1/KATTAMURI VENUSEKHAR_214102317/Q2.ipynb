{
 "cells": [
  {
   "cell_type": "code",
   "execution_count": 1,
   "id": "06335ccf",
   "metadata": {},
   "outputs": [
    {
     "name": "stdout",
     "output_type": "stream",
     "text": [
      "first number is23\n",
      "second number is11\n",
      "addition is  34 \n",
      "subtraction is  12 \n",
      "multipication is   253 \n",
      "divison is  2.090909090909091 \n",
      " modulus is 1\n"
     ]
    }
   ],
   "source": [
    "a = int(input(\"first number is\"))\n",
    "b = int(input(\"second number is\"))\n",
    "c = a+b #addition\n",
    "d = a-b #subtraction\n",
    "e =a*b #multiplication\n",
    "f =a/b #division\n",
    "g=a%b #modulus\n",
    "print(\"addition is \",c,\"\\nsubtraction is \" ,d ,\"\\nmultipication is  \",e,\"\\ndivison is \",f,\"\\n modulus is\",g,)"
   ]
  },
  {
   "cell_type": "code",
   "execution_count": null,
   "id": "03d3c048",
   "metadata": {},
   "outputs": [],
   "source": []
  }
 ],
 "metadata": {
  "kernelspec": {
   "display_name": "Python 3",
   "language": "python",
   "name": "python3"
  },
  "language_info": {
   "codemirror_mode": {
    "name": "ipython",
    "version": 3
   },
   "file_extension": ".py",
   "mimetype": "text/x-python",
   "name": "python",
   "nbconvert_exporter": "python",
   "pygments_lexer": "ipython3",
   "version": "3.8.8"
  }
 },
 "nbformat": 4,
 "nbformat_minor": 5
}
